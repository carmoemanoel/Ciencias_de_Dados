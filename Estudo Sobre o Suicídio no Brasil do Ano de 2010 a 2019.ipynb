{
 "cells": [
  {
   "cell_type": "code",
   "execution_count": 1,
   "id": "d745cc5a",
   "metadata": {},
   "outputs": [],
   "source": [
    "# Bibliotecas Importadas\n",
    "\n",
    "import pandas as pd\n",
    "import matplotlib.pyplot as plt\n",
    "import seaborn as sns"
   ]
  },
  {
   "cell_type": "code",
   "execution_count": 2,
   "id": "91409914",
   "metadata": {},
   "outputs": [
    {
     "name": "stderr",
     "output_type": "stream",
     "text": [
      "C:\\Users\\User\\anaconda3\\lib\\site-packages\\IPython\\core\\interactiveshell.py:3165: DtypeWarning: Columns (9) have mixed types.Specify dtype option on import or set low_memory=False.\n",
      "  has_raised = await self.run_ast_nodes(code_ast.body, cell_name,\n"
     ]
    },
    {
     "data": {
      "text/html": [
       "<div>\n",
       "<style scoped>\n",
       "    .dataframe tbody tr th:only-of-type {\n",
       "        vertical-align: middle;\n",
       "    }\n",
       "\n",
       "    .dataframe tbody tr th {\n",
       "        vertical-align: top;\n",
       "    }\n",
       "\n",
       "    .dataframe thead th {\n",
       "        text-align: right;\n",
       "    }\n",
       "</style>\n",
       "<table border=\"1\" class=\"dataframe\">\n",
       "  <thead>\n",
       "    <tr style=\"text-align: right;\">\n",
       "      <th></th>\n",
       "      <th>unnamed: 0</th>\n",
       "      <th>estado</th>\n",
       "      <th>ano</th>\n",
       "      <th>mes</th>\n",
       "      <th>dtobito</th>\n",
       "      <th>dtnasc</th>\n",
       "      <th>sexo</th>\n",
       "      <th>racacor</th>\n",
       "      <th>assistmed</th>\n",
       "      <th>escmae</th>\n",
       "      <th>estciv</th>\n",
       "      <th>esc</th>\n",
       "      <th>ocup</th>\n",
       "      <th>codmunres</th>\n",
       "      <th>causabas</th>\n",
       "      <th>causabas_o</th>\n",
       "      <th>lococor</th>\n",
       "      <th>cirurgia</th>\n",
       "    </tr>\n",
       "  </thead>\n",
       "  <tbody>\n",
       "    <tr>\n",
       "      <th>0</th>\n",
       "      <td>1</td>\n",
       "      <td>AC</td>\n",
       "      <td>2010</td>\n",
       "      <td>1</td>\n",
       "      <td>31/01/2010</td>\n",
       "      <td>09/11/1999</td>\n",
       "      <td>Masculino</td>\n",
       "      <td>Parda</td>\n",
       "      <td>NaN</td>\n",
       "      <td>NaN</td>\n",
       "      <td>Solteiro/a</td>\n",
       "      <td>1 a 3 anos</td>\n",
       "      <td>ESTUDANTE</td>\n",
       "      <td>Tarauacá</td>\n",
       "      <td>X780</td>\n",
       "      <td>X780</td>\n",
       "      <td>Via pública</td>\n",
       "      <td>Não</td>\n",
       "    </tr>\n",
       "    <tr>\n",
       "      <th>1</th>\n",
       "      <td>2</td>\n",
       "      <td>AC</td>\n",
       "      <td>2010</td>\n",
       "      <td>2</td>\n",
       "      <td>07/02/2010</td>\n",
       "      <td>23/09/1985</td>\n",
       "      <td>Masculino</td>\n",
       "      <td>Parda</td>\n",
       "      <td>NaN</td>\n",
       "      <td>NaN</td>\n",
       "      <td>Solteiro/a</td>\n",
       "      <td>1 a 3 anos</td>\n",
       "      <td>ESTUDANTE</td>\n",
       "      <td>Tarauacá</td>\n",
       "      <td>X780</td>\n",
       "      <td>X780</td>\n",
       "      <td>Hospital</td>\n",
       "      <td>Não</td>\n",
       "    </tr>\n",
       "    <tr>\n",
       "      <th>2</th>\n",
       "      <td>3</td>\n",
       "      <td>AC</td>\n",
       "      <td>2010</td>\n",
       "      <td>2</td>\n",
       "      <td>19/02/2010</td>\n",
       "      <td>06/08/1995</td>\n",
       "      <td>Masculino</td>\n",
       "      <td>Parda</td>\n",
       "      <td>NaN</td>\n",
       "      <td>NaN</td>\n",
       "      <td>Solteiro/a</td>\n",
       "      <td>1 a 3 anos</td>\n",
       "      <td>ESTUDANTE</td>\n",
       "      <td>Tarauacá</td>\n",
       "      <td>X780</td>\n",
       "      <td>X780</td>\n",
       "      <td>Hospital</td>\n",
       "      <td>Não</td>\n",
       "    </tr>\n",
       "    <tr>\n",
       "      <th>3</th>\n",
       "      <td>4</td>\n",
       "      <td>AC</td>\n",
       "      <td>2010</td>\n",
       "      <td>4</td>\n",
       "      <td>20/04/2010</td>\n",
       "      <td>25/12/1983</td>\n",
       "      <td>Feminino</td>\n",
       "      <td>Parda</td>\n",
       "      <td>NaN</td>\n",
       "      <td>NaN</td>\n",
       "      <td>Casado/a</td>\n",
       "      <td>1 a 3 anos</td>\n",
       "      <td>DONA DE CASA</td>\n",
       "      <td>Tarauacá</td>\n",
       "      <td>X780</td>\n",
       "      <td>X780</td>\n",
       "      <td>Domicílio</td>\n",
       "      <td>Não</td>\n",
       "    </tr>\n",
       "    <tr>\n",
       "      <th>4</th>\n",
       "      <td>5</td>\n",
       "      <td>AC</td>\n",
       "      <td>2010</td>\n",
       "      <td>7</td>\n",
       "      <td>24/07/2010</td>\n",
       "      <td>13/05/1982</td>\n",
       "      <td>Masculino</td>\n",
       "      <td>Parda</td>\n",
       "      <td>NaN</td>\n",
       "      <td>NaN</td>\n",
       "      <td>Casado/a</td>\n",
       "      <td>NaN</td>\n",
       "      <td>DONA DE CASA</td>\n",
       "      <td>Tarauacá</td>\n",
       "      <td>X720</td>\n",
       "      <td>X720</td>\n",
       "      <td>Domicílio</td>\n",
       "      <td>Não</td>\n",
       "    </tr>\n",
       "  </tbody>\n",
       "</table>\n",
       "</div>"
      ],
      "text/plain": [
       "   unnamed: 0 estado   ano  mes     dtobito      dtnasc       sexo racacor  \\\n",
       "0           1     AC  2010    1  31/01/2010  09/11/1999  Masculino   Parda   \n",
       "1           2     AC  2010    2  07/02/2010  23/09/1985  Masculino   Parda   \n",
       "2           3     AC  2010    2  19/02/2010  06/08/1995  Masculino   Parda   \n",
       "3           4     AC  2010    4  20/04/2010  25/12/1983   Feminino   Parda   \n",
       "4           5     AC  2010    7  24/07/2010  13/05/1982  Masculino   Parda   \n",
       "\n",
       "  assistmed escmae      estciv         esc          ocup codmunres causabas  \\\n",
       "0       NaN    NaN  Solteiro/a  1 a 3 anos     ESTUDANTE  Tarauacá     X780   \n",
       "1       NaN    NaN  Solteiro/a  1 a 3 anos     ESTUDANTE  Tarauacá     X780   \n",
       "2       NaN    NaN  Solteiro/a  1 a 3 anos     ESTUDANTE  Tarauacá     X780   \n",
       "3       NaN    NaN    Casado/a  1 a 3 anos  DONA DE CASA  Tarauacá     X780   \n",
       "4       NaN    NaN    Casado/a         NaN  DONA DE CASA  Tarauacá     X720   \n",
       "\n",
       "  causabas_o      lococor cirurgia  \n",
       "0       X780  Via pública      Não  \n",
       "1       X780     Hospital      Não  \n",
       "2       X780     Hospital      Não  \n",
       "3       X780    Domicílio      Não  \n",
       "4       X720    Domicílio      Não  "
      ]
     },
     "execution_count": 2,
     "metadata": {},
     "output_type": "execute_result"
    }
   ],
   "source": [
    "# Importação do Dataset\n",
    "\n",
    "dados = pd.read_csv('suicidios_2010_a_2019.csv', sep=\";\")\n",
    "dados.columns = dados.columns.str.lower()\n",
    "dados.head()"
   ]
  },
  {
   "cell_type": "markdown",
   "id": "93006aae",
   "metadata": {},
   "source": [
    "### Dicionário das variáveis\n",
    "\n",
    "*    **estado** = Estado onde ocorreu o óbito\n",
    "*   **ano** = Ano de quando ocorreu o óbito\n",
    "*  **mes** = Mês em que ocorreu o óbito\n",
    "*  **dtobito** = Data do óbito\n",
    "*   **dtnasc** = Data de nascimento da vítima\n",
    "*   **sexo** = Sexo \n",
    "*   **racacor** = Raça/cor\n",
    "*   **assistmed** = Assistência médica\n",
    "*   **escmae** = Escolaridade (em anos) da mãe da vítima\n",
    "*   **estciv** = Estado Civil\n",
    "*   **esc** = Escolaridade (em anos)\n",
    "*   **ocup** = Ocupação \n",
    "*   **codmunres** = Cidade\n",
    "*   **causabas** = Causa básica da morte (de acordo com CID)\n",
    "*   **causabas_o** = Causa básica da morte (de acordo com CID)\n",
    "*   **lococor** = Local de ocorrência da morte\n",
    "*   **cirurgia** = Foi realizada cirurgia? (Sim ou não)"
   ]
  },
  {
   "cell_type": "markdown",
   "id": "bef94645",
   "metadata": {},
   "source": [
    "## 2. Manipulação e Limpeza de Dados com Pandas"
   ]
  },
  {
   "cell_type": "code",
   "execution_count": 3,
   "id": "60d2d51d",
   "metadata": {},
   "outputs": [
    {
     "name": "stdout",
     "output_type": "stream",
     "text": [
      "<class 'pandas.core.frame.DataFrame'>\n",
      "RangeIndex: 112491 entries, 0 to 112490\n",
      "Data columns (total 18 columns):\n",
      " #   Column      Non-Null Count   Dtype \n",
      "---  ------      --------------   ----- \n",
      " 0   unnamed: 0  112491 non-null  int64 \n",
      " 1   estado      112491 non-null  object\n",
      " 2   ano         112491 non-null  int64 \n",
      " 3   mes         112491 non-null  int64 \n",
      " 4   dtobito     112491 non-null  object\n",
      " 5   dtnasc      101633 non-null  object\n",
      " 6   sexo        112469 non-null  object\n",
      " 7   racacor     109320 non-null  object\n",
      " 8   assistmed   70687 non-null   object\n",
      " 9   escmae      15 non-null      object\n",
      " 10  estciv      103791 non-null  object\n",
      " 11  esc         84327 non-null   object\n",
      " 12  ocup        60274 non-null   object\n",
      " 13  codmunres   112491 non-null  object\n",
      " 14  causabas    112491 non-null  object\n",
      " 15  causabas_o  112204 non-null  object\n",
      " 16  lococor     112031 non-null  object\n",
      " 17  cirurgia    8549 non-null    object\n",
      "dtypes: int64(3), object(15)\n",
      "memory usage: 15.4+ MB\n"
     ]
    }
   ],
   "source": [
    "# Primeiramente vamos obter informações do Dataframe escolhido\n",
    "\n",
    "dados.info()"
   ]
  },
  {
   "cell_type": "code",
   "execution_count": 4,
   "id": "fc0d9ef9",
   "metadata": {},
   "outputs": [
    {
     "data": {
      "text/plain": [
       "(112491, 18)"
      ]
     },
     "execution_count": 4,
     "metadata": {},
     "output_type": "execute_result"
    }
   ],
   "source": [
    "# Com a função shape, observamos respectivamente a quantidade de linhas e colunas do Dataframe\n",
    "\n",
    "dados.shape"
   ]
  },
  {
   "cell_type": "code",
   "execution_count": 5,
   "id": "e733c784",
   "metadata": {},
   "outputs": [
    {
     "data": {
      "text/plain": [
       "Index(['unnamed: 0', 'estado', 'ano', 'mes', 'dtobito', 'dtnasc', 'sexo',\n",
       "       'racacor', 'assistmed', 'escmae', 'estciv', 'esc', 'ocup', 'codmunres',\n",
       "       'causabas', 'causabas_o', 'lococor', 'cirurgia'],\n",
       "      dtype='object')"
      ]
     },
     "execution_count": 5,
     "metadata": {},
     "output_type": "execute_result"
    }
   ],
   "source": [
    "# Observamos os nomes das colunas do Dataframe\n",
    "\n",
    "dados.columns"
   ]
  },
  {
   "cell_type": "code",
   "execution_count": 6,
   "id": "32605797",
   "metadata": {},
   "outputs": [
    {
     "name": "stdout",
     "output_type": "stream",
     "text": [
      "unnamed: 0    False\n",
      "estado        False\n",
      "ano           False\n",
      "mes           False\n",
      "dtobito       False\n",
      "dtnasc         True\n",
      "sexo           True\n",
      "racacor        True\n",
      "assistmed      True\n",
      "escmae         True\n",
      "estciv         True\n",
      "esc            True\n",
      "ocup           True\n",
      "codmunres     False\n",
      "causabas      False\n",
      "causabas_o     True\n",
      "lococor        True\n",
      "cirurgia       True\n",
      "dtype: bool\n"
     ]
    }
   ],
   "source": [
    "# Lista se alguma das colunas possuem dados ausentes\n",
    "\n",
    "print(dados.isnull().any())"
   ]
  },
  {
   "cell_type": "code",
   "execution_count": 7,
   "id": "6db05978",
   "metadata": {},
   "outputs": [
    {
     "data": {
      "text/plain": [
       "unnamed: 0         0\n",
       "estado             0\n",
       "ano                0\n",
       "mes                0\n",
       "dtobito            0\n",
       "dtnasc         10858\n",
       "sexo              22\n",
       "racacor         3171\n",
       "assistmed      41804\n",
       "escmae        112476\n",
       "estciv          8700\n",
       "esc            28164\n",
       "ocup           52217\n",
       "codmunres          0\n",
       "causabas           0\n",
       "causabas_o       287\n",
       "lococor          460\n",
       "cirurgia      103942\n",
       "dtype: int64"
      ]
     },
     "execution_count": 7,
     "metadata": {},
     "output_type": "execute_result"
    }
   ],
   "source": [
    "# Contando a quantidade de valores faltantes por coluna:\n",
    "\n",
    "dados.isnull().sum()"
   ]
  },
  {
   "cell_type": "markdown",
   "id": "6775914a",
   "metadata": {},
   "source": [
    "Observando as colunas, algumas delas são desnecessárias para nosso propósito. Colunas como as de assistência médica, escolaridade da mãe, esolaridade da vítima e cirurgia, não possuem informações relevantes para nossa análise, além disso as colunas escolaridade da mãe e cirurgia possuem muitos dados auesentes. Outra coluna desnecessária é a coluna duplicata de causa de óbitos, nesse caso, vamos elimar uma, e ficar com a coluna que possui os dados completos."
   ]
  },
  {
   "cell_type": "code",
   "execution_count": 8,
   "id": "a5cd9f74",
   "metadata": {},
   "outputs": [
    {
     "data": {
      "text/plain": [
       "Index(['unnamed: 0', 'estado', 'ano', 'mes', 'dtobito', 'dtnasc', 'sexo',\n",
       "       'racacor', 'assistmed', 'escmae', 'estciv', 'esc', 'ocup', 'codmunres',\n",
       "       'causabas', 'causabas_o', 'lococor', 'cirurgia'],\n",
       "      dtype='object')"
      ]
     },
     "execution_count": 8,
     "metadata": {},
     "output_type": "execute_result"
    }
   ],
   "source": [
    "dados.columns"
   ]
  },
  {
   "cell_type": "code",
   "execution_count": 9,
   "id": "0e99de36",
   "metadata": {},
   "outputs": [],
   "source": [
    "columns = [ 'assistmed', 'escmae', 'esc', 'causabas_o', 'cirurgia']\n",
    "dados.drop(columns, inplace=True, axis=1)"
   ]
  },
  {
   "cell_type": "code",
   "execution_count": 10,
   "id": "ce4e8a99",
   "metadata": {},
   "outputs": [
    {
     "data": {
      "text/plain": [
       "unnamed: 0        0\n",
       "estado            0\n",
       "ano               0\n",
       "mes               0\n",
       "dtobito           0\n",
       "dtnasc        10858\n",
       "sexo             22\n",
       "racacor        3171\n",
       "estciv         8700\n",
       "ocup          52217\n",
       "codmunres         0\n",
       "causabas          0\n",
       "lococor         460\n",
       "dtype: int64"
      ]
     },
     "execution_count": 10,
     "metadata": {},
     "output_type": "execute_result"
    }
   ],
   "source": [
    "# Agora, com o novo Dataframe a quantidade de valores faltantes por coluna são:\n",
    "\n",
    "dados.isnull().sum()"
   ]
  },
  {
   "cell_type": "markdown",
   "id": "dbbc9b15",
   "metadata": {},
   "source": [
    "### Tratando Dados Ausentes\n",
    "\n",
    "Observamos que algumas colunas, possuem dados ausentes e que precisam ser tratados. Optamos por não excluir os dados, dessa forma, iremos preenche-los."
   ]
  },
  {
   "cell_type": "markdown",
   "id": "c953d10a",
   "metadata": {},
   "source": [
    "*   Coluna de Data de Nascimento:\n",
    "\n",
    "A coluna de data de nascimento, possui 10858 dados ausentes, porém, essa coluna pode nos fornecer informações utéis a respeito da idade de pessoas vítimas de suicídio. "
   ]
  },
  {
   "cell_type": "code",
   "execution_count": 11,
   "id": "2a1f988f",
   "metadata": {},
   "outputs": [],
   "source": [
    "dados.update(dados['dtnasc'].fillna('Não cadastrada'))"
   ]
  },
  {
   "cell_type": "markdown",
   "id": "aeb09a93",
   "metadata": {},
   "source": [
    "*   Coluna de Sexo:\n",
    "\n",
    "A coluna de  sexo possui apenas 22 dados ausentes, então, como se trata de uma valor categórico, podemos preencher com valores mais frequentes."
   ]
  },
  {
   "cell_type": "code",
   "execution_count": 12,
   "id": "8b0f14d1",
   "metadata": {},
   "outputs": [
    {
     "name": "stdout",
     "output_type": "stream",
     "text": [
      "Masculino    88394\n",
      "Feminino     24075\n",
      "Name: sexo, dtype: int64\n",
      "Branca      56075\n",
      "Parda       45695\n",
      "Preta        5929\n",
      "Indígena     1187\n",
      "Amarela       434\n",
      "Name: racacor, dtype: int64\n",
      "Valor ausente:  0\n"
     ]
    }
   ],
   "source": [
    "# Identifica o valor mais frequente da coluna\n",
    "\n",
    "print(dados.sexo.value_counts())\n",
    "sexo_freq = dados.sexo.value_counts()[0]\n",
    "\n",
    "print(dados.racacor.value_counts())\n",
    "racacor_freq= dados.racacor.value_counts()[0]\n",
    "\n",
    "# Preenche os valores ausentes com o valor de maior frequencia\n",
    "\n",
    "dados.sexo.fillna(sexo_freq, inplace = True)\n",
    "\n",
    "# Verifica se há algum valor ausente na coluna sexo\n",
    "\n",
    "print('Valor ausente: ', dados.sexo.isnull().sum())"
   ]
  },
  {
   "cell_type": "markdown",
   "id": "09da70f4",
   "metadata": {},
   "source": [
    "*   Coluna de Raça/Cor:\n",
    "\n",
    "A coluna de raça/cor possui 3171 dados ausentes, por se tratar também de um valor categórico, preencheremos com os valores mais frequentes."
   ]
  },
  {
   "cell_type": "code",
   "execution_count": 13,
   "id": "34f4c620",
   "metadata": {},
   "outputs": [
    {
     "name": "stdout",
     "output_type": "stream",
     "text": [
      "Branca      56075\n",
      "Parda       45695\n",
      "Preta        5929\n",
      "Indígena     1187\n",
      "Amarela       434\n",
      "Name: racacor, dtype: int64\n",
      "Quantidade de valores ausentes:  0\n"
     ]
    }
   ],
   "source": [
    "# Identifica o valor mais frequente da coluna\n",
    "\n",
    "print(dados.racacor.value_counts())\n",
    "racacor_freq= dados.racacor.value_counts()[0]\n",
    "\n",
    "# Preenche os valores ausentes com o valor de maior frequencia\n",
    "\n",
    "dados.racacor.fillna(racacor_freq, inplace = True)\n",
    "\n",
    "# Verifica se há algum valor ausente na coluna Raça/cor\n",
    "\n",
    "print('Quantidade de valores ausentes: ', dados.racacor.isnull().sum())"
   ]
  },
  {
   "cell_type": "markdown",
   "id": "8d51aefa",
   "metadata": {},
   "source": [
    "*   Coluna Estado Civil:\n",
    "\n",
    "A coluna de estado civil, possui 8700 dados ausentes."
   ]
  },
  {
   "cell_type": "code",
   "execution_count": 14,
   "id": "9a924ce7",
   "metadata": {},
   "outputs": [
    {
     "name": "stdout",
     "output_type": "stream",
     "text": [
      "Solteiro/a                  56523\n",
      "Casado/a                    30001\n",
      "Separado/a judicialmente     7771\n",
      "União consensual             5280\n",
      "Viúvo/a                      4216\n",
      "Name: estciv, dtype: int64\n"
     ]
    },
    {
     "data": {
      "text/plain": [
       "0"
      ]
     },
     "execution_count": 14,
     "metadata": {},
     "output_type": "execute_result"
    }
   ],
   "source": [
    "# Identifica o valor mais frequente da coluna\n",
    "print(dados.estciv.value_counts())\n",
    "estciv_freq= dados.estciv.value_counts()[0]\n",
    "\n",
    "# Preenche os valores ausentes com o valor de maior frequencia\n",
    "dados.estciv.fillna(estciv_freq, inplace = True)\n",
    "\n",
    "# Verifica se há valor ausente na coluna Estado civil\n",
    "dados.estciv.isnull().sum()"
   ]
  },
  {
   "cell_type": "markdown",
   "id": "416a15cf",
   "metadata": {},
   "source": [
    "*   Coluna de Ocupação:\n",
    "\n",
    "A coluna de data de nascimento, possui 10858 dados ausentes, porém, essa coluna pode nos fornecer informações utéis a respeito da idade de pessoas vítimas de suicídio. "
   ]
  },
  {
   "cell_type": "code",
   "execution_count": 15,
   "id": "cbb7d6b6",
   "metadata": {},
   "outputs": [],
   "source": [
    "dados.update(dados['ocup'].fillna('Não cadastrada'))"
   ]
  },
  {
   "cell_type": "markdown",
   "id": "b1034daa",
   "metadata": {},
   "source": [
    "*   Coluna de Local de óbito:\n",
    "\n",
    "A coluna de raça/cor possui 3171 dados ausentes, por se tratar também de um valor categórico, preencheremos com os valores mais frequentes."
   ]
  },
  {
   "cell_type": "code",
   "execution_count": 16,
   "id": "c4c398e6",
   "metadata": {},
   "outputs": [
    {
     "name": "stdout",
     "output_type": "stream",
     "text": [
      "Domicílio                         68221\n",
      "Hospital                          17579\n",
      "Outros                            17502\n",
      "Via pública                        6996\n",
      "Outro estabelecimento de saúde     1733\n",
      "Name: lococor, dtype: int64\n"
     ]
    },
    {
     "data": {
      "text/plain": [
       "0"
      ]
     },
     "execution_count": 16,
     "metadata": {},
     "output_type": "execute_result"
    }
   ],
   "source": [
    "# Identifica o valor mais frequente\n",
    "\n",
    "print(dados.lococor.value_counts())\n",
    "lococor_freq= dados.lococor.value_counts()[0]\n",
    "\n",
    "#Preenche os valores ausentes com o valor de maior frequencia\n",
    "\n",
    "dados.lococor.fillna(lococor_freq, inplace = True)\n",
    "\n",
    "#Verifica se há valor ausente\n",
    "\n",
    "dados.lococor.isnull().sum()"
   ]
  },
  {
   "cell_type": "markdown",
   "id": "fe9e97c9",
   "metadata": {},
   "source": [
    "Com os dados tratados, podemos ver, só para ter certeza:"
   ]
  },
  {
   "cell_type": "code",
   "execution_count": 17,
   "id": "99539906",
   "metadata": {},
   "outputs": [
    {
     "data": {
      "text/plain": [
       "unnamed: 0    0\n",
       "estado        0\n",
       "ano           0\n",
       "mes           0\n",
       "dtobito       0\n",
       "dtnasc        0\n",
       "sexo          0\n",
       "racacor       0\n",
       "estciv        0\n",
       "ocup          0\n",
       "codmunres     0\n",
       "causabas      0\n",
       "lococor       0\n",
       "dtype: int64"
      ]
     },
     "execution_count": 17,
     "metadata": {},
     "output_type": "execute_result"
    }
   ],
   "source": [
    "#Contando a quantidade de valores faltantes por coluna:\n",
    "\n",
    "dados.isnull().sum()"
   ]
  },
  {
   "cell_type": "markdown",
   "id": "51f06d97",
   "metadata": {},
   "source": [
    "Além do tratamento de dados, temos apenas a coluna de data de nascimento e não a idade diretamente, por isso, vamos criar uma coluna para criar a idade."
   ]
  },
  {
   "cell_type": "code",
   "execution_count": 18,
   "id": "7c38bfcf",
   "metadata": {},
   "outputs": [
    {
     "data": {
      "text/plain": [
       "Index(['unnamed: 0', 'estado', 'ano', 'mes', 'dtobito', 'dtnasc', 'sexo',\n",
       "       'racacor', 'estciv', 'ocup', 'codmunres', 'causabas', 'lococor'],\n",
       "      dtype='object')"
      ]
     },
     "execution_count": 18,
     "metadata": {},
     "output_type": "execute_result"
    }
   ],
   "source": [
    "dados.columns"
   ]
  },
  {
   "cell_type": "code",
   "execution_count": 19,
   "id": "e4c95e3a",
   "metadata": {},
   "outputs": [],
   "source": [
    "columns = ['estado','dtobito','dtnasc','racacor','estciv','ocup','codmunres','causabas','lococor','sexo']\n",
    "dados.drop(columns, inplace=True, axis=1)"
   ]
  },
  {
   "cell_type": "code",
   "execution_count": 20,
   "id": "034c6d6a",
   "metadata": {},
   "outputs": [],
   "source": [
    "# Importando as bibliotecas a serem utilizadas\n",
    "\n",
    "from sklearn.svm import SVC\n",
    "from sklearn.preprocessing import MinMaxScaler\n",
    "from sklearn.model_selection import train_test_split\n",
    "from sklearn.metrics import accuracy_score"
   ]
  },
  {
   "cell_type": "markdown",
   "id": "d048ea98",
   "metadata": {},
   "source": [
    "# Quebrando os dados em conjunto de treino e conjunto de teste"
   ]
  },
  {
   "cell_type": "code",
   "execution_count": 21,
   "id": "b29b77cc",
   "metadata": {},
   "outputs": [],
   "source": [
    "# separando os dados para teste/treinamento.\n",
    "\n",
    "columns = ['ano', 'mes','unnamed: 0']\n",
    "X = dados.drop('ano', axis=1)\n",
    "y = dados.ano"
   ]
  },
  {
   "cell_type": "markdown",
   "id": "42e400a6",
   "metadata": {},
   "source": [
    "# Treinando um estimador scikit-learn de aprendizagem supervisionada (Classificador)"
   ]
  },
  {
   "cell_type": "markdown",
   "id": "42e09ee4",
   "metadata": {},
   "source": [
    "Nessa etapa optamos por utilizar o comando MinMaxScaler.fit_transfor() para poder aumentar a qualidade do Classificador através do tratamento dos inputs e com a normalização, podemos também aumentar significativamente a qualidade da acurácia."
   ]
  },
  {
   "cell_type": "code",
   "execution_count": 22,
   "id": "8d5dba25",
   "metadata": {},
   "outputs": [
    {
     "data": {
      "text/plain": [
       "array([[0.00000000e+00, 0.00000000e+00],\n",
       "       [8.88967908e-06, 9.09090909e-02],\n",
       "       [1.77793582e-05, 9.09090909e-02],\n",
       "       ...,\n",
       "       [9.99982221e-01, 6.36363636e-01],\n",
       "       [9.99991110e-01, 8.18181818e-01],\n",
       "       [1.00000000e+00, 7.27272727e-01]])"
      ]
     },
     "execution_count": 22,
     "metadata": {},
     "output_type": "execute_result"
    }
   ],
   "source": [
    "#Fazendo a normalização dos Dados\n",
    "\n",
    "normalizador = MinMaxScaler()\n",
    "X_norm = normalizador.fit_transform(X)\n",
    "X_norm"
   ]
  },
  {
   "cell_type": "markdown",
   "id": "7ad336aa",
   "metadata": {},
   "source": [
    "Agora para verificar a melhoria na qualidade do Classificador, separamos as variáveis em conjunto de treinamento de teste."
   ]
  },
  {
   "cell_type": "code",
   "execution_count": 23,
   "id": "44f4822c",
   "metadata": {},
   "outputs": [],
   "source": [
    "#Divisão do conjunto de treinamento e conjunto de teste\n",
    "\n",
    "X_train, X_test, y_train, y_test = train_test_split(X_norm, y, train_size=2/3, random_state=1)"
   ]
  },
  {
   "cell_type": "markdown",
   "id": "6653e3b8",
   "metadata": {},
   "source": [
    "Já no nosso Classificador e com as variáveis do conjunto de treinamento, utilizamos a função .fit().Logo após essa etapa de treianamento, podemos testa os nosso conjuto de teste para verificar a precisão. "
   ]
  },
  {
   "cell_type": "code",
   "execution_count": 24,
   "id": "8204585c",
   "metadata": {},
   "outputs": [
    {
     "data": {
      "text/plain": [
       "0.9817852094834253"
      ]
     },
     "execution_count": 24,
     "metadata": {},
     "output_type": "execute_result"
    }
   ],
   "source": [
    "# Criando Classificador\n",
    "\n",
    "svc = SVC()\n",
    "svc.fit(X_train, y_train)\n",
    "\n",
    "accuracy_score(y_test, svc.predict(X_test))"
   ]
  }
 ],
 "metadata": {
  "kernelspec": {
   "display_name": "Python 3",
   "language": "python",
   "name": "python3"
  },
  "language_info": {
   "codemirror_mode": {
    "name": "ipython",
    "version": 3
   },
   "file_extension": ".py",
   "mimetype": "text/x-python",
   "name": "python",
   "nbconvert_exporter": "python",
   "pygments_lexer": "ipython3",
   "version": "3.8.8"
  }
 },
 "nbformat": 4,
 "nbformat_minor": 5
}
